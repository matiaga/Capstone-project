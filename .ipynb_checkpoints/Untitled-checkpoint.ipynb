{
 "cells": [
  {
   "cell_type": "code",
   "execution_count": 2,
   "id": "18479540",
   "metadata": {},
   "outputs": [],
   "source": [
    "# Importing libraries \n",
    "import selenium\n",
    "import pandas as pd\n",
    "import numpy as np\n",
    "from selenium import webdriver\n",
    "import warnings\n",
    "warnings.filterwarnings('ignore')\n",
    "from selenium.webdriver.common.by import By\n",
    "from selenium.webdriver.common.keys import Keys\n",
    "from selenium.webdriver.support.ui import WebDriverWait\n",
    "from selenium.webdriver.common.action_chains import ActionChains\n",
    "from selenium.webdriver.support import expected_conditions as EC\n",
    "from selenium.webdriver.support.ui import Select\n",
    "from selenium.common.exceptions import NoSuchElementException, StaleElementReferenceException, TimeoutException, ElementClickInterceptedException\n",
    "\n",
    "\n",
    "from bs4 import BeautifulSoup\n",
    "import time\n",
    "# import regex as re"
   ]
  },
  {
   "cell_type": "code",
   "execution_count": 5,
   "id": "da4ae0fa",
   "metadata": {},
   "outputs": [],
   "source": [
    " # Open the Driver \n",
    "driver = webdriver.Chrome()\n",
    "driver.maximize_window()\n",
    "\n",
    "# Initializing the dataframe\n",
    "df_det = pd.DataFrame()\n",
    "\n",
    "url_error = pd.DataFrame(columns=['index','URL','Exception','msg' ])\n",
    "\n",
    "url = 'https://us.puma.comdd/us/en/pd/rs-x-soft-womens-sneakers/393772?swatch=02&referrer-category=womens-shop-all-womens'\n"
   ]
  },
  {
   "cell_type": "code",
   "execution_count": 6,
   "id": "fb9cf0fa",
   "metadata": {},
   "outputs": [],
   "source": [
    "driver.quit()"
   ]
  },
  {
   "cell_type": "code",
   "execution_count": 7,
   "id": "a6f54d3c",
   "metadata": {},
   "outputs": [
    {
     "name": "stdout",
     "output_type": "stream",
     "text": [
      "Tipo de excepción: <class 'urllib3.exceptions.MaxRetryError'>\n",
      "Mensaje de la excepción: HTTPConnectionPool(host='localhost', port=55277): Max retries exceeded with url: /session/abd02933920db70e3fcc36ade5129327/url (Caused by NewConnectionError('<urllib3.connection.HTTPConnection object at 0x000002B05AD94460>: Failed to establish a new connection: [WinError 10061] No se puede establecer una conexión ya que el equipo de destino denegó expresamente dicha conexión'))\n"
     ]
    }
   ],
   "source": [
    "try:\n",
    "    # código que puede generar una excepción\n",
    "    driver.get(url) \n",
    "    \n",
    "except ElementClickInterceptedException as e:\n",
    "    # Aquí, puedes acceder a información específica de ElementClickInterceptedException\n",
    "    print(f\"Tipo de excepción: {type(e)}\")\n",
    "    print(f\"Mensaje de la excepción: {str(e)}\")\n",
    "    # O realizar otras acciones específicas para manejar esta excepción\n",
    "except Exception as e:\n",
    "    # Este bloque captura excepciones de cualquier tipo\n",
    "    print(f\"Tipo de excepción: {type(e)}\")\n",
    "    print(f\"Mensaje de la excepción: {str(e)}\")\n"
   ]
  },
  {
   "cell_type": "code",
   "execution_count": 3,
   "id": "51bf2401",
   "metadata": {},
   "outputs": [
    {
     "name": "stdout",
     "output_type": "stream",
     "text": [
      "Tipo de excepción: <class 'ValueError'>\n",
      "Mensaje de la excepción: ¡Esto es una excepción simulada!\n"
     ]
    },
    {
     "ename": "AttributeError",
     "evalue": "'ValueError' object has no attribute 'msg'",
     "output_type": "error",
     "traceback": [
      "\u001b[1;31m---------------------------------------------------------------------------\u001b[0m",
      "\u001b[1;31mValueError\u001b[0m                                Traceback (most recent call last)",
      "\u001b[1;32m~\\AppData\\Local\\Temp\\ipykernel_10432\\116966499.py\u001b[0m in \u001b[0;36m<module>\u001b[1;34m\u001b[0m\n\u001b[0;32m      2\u001b[0m     \u001b[1;31m# Código que puede generar una excepción\u001b[0m\u001b[1;33m\u001b[0m\u001b[1;33m\u001b[0m\u001b[0m\n\u001b[1;32m----> 3\u001b[1;33m     \u001b[1;32mraise\u001b[0m \u001b[0mValueError\u001b[0m\u001b[1;33m(\u001b[0m\u001b[1;34m\"¡Esto es una excepción simulada!\"\u001b[0m\u001b[1;33m)\u001b[0m\u001b[1;33m\u001b[0m\u001b[1;33m\u001b[0m\u001b[0m\n\u001b[0m\u001b[0;32m      4\u001b[0m \u001b[1;32mexcept\u001b[0m \u001b[0mValueError\u001b[0m \u001b[1;32mas\u001b[0m \u001b[0me\u001b[0m\u001b[1;33m:\u001b[0m\u001b[1;33m\u001b[0m\u001b[1;33m\u001b[0m\u001b[0m\n",
      "\u001b[1;31mValueError\u001b[0m: ¡Esto es una excepción simulada!",
      "\nDuring handling of the above exception, another exception occurred:\n",
      "\u001b[1;31mAttributeError\u001b[0m                            Traceback (most recent call last)",
      "\u001b[1;32m~\\AppData\\Local\\Temp\\ipykernel_10432\\116966499.py\u001b[0m in \u001b[0;36m<module>\u001b[1;34m\u001b[0m\n\u001b[0;32m      5\u001b[0m     \u001b[0mprint\u001b[0m\u001b[1;33m(\u001b[0m\u001b[1;34mf\"Tipo de excepción: {type(e)}\"\u001b[0m\u001b[1;33m)\u001b[0m\u001b[1;33m\u001b[0m\u001b[1;33m\u001b[0m\u001b[0m\n\u001b[0;32m      6\u001b[0m     \u001b[0mprint\u001b[0m\u001b[1;33m(\u001b[0m\u001b[1;34mf\"Mensaje de la excepción: {str(e)}\"\u001b[0m\u001b[1;33m)\u001b[0m\u001b[1;33m\u001b[0m\u001b[1;33m\u001b[0m\u001b[0m\n\u001b[1;32m----> 7\u001b[1;33m     \u001b[0mprint\u001b[0m\u001b[1;33m(\u001b[0m\u001b[1;34mf\"Mensaje de la excepción: {e.msg}\"\u001b[0m\u001b[1;33m)\u001b[0m\u001b[1;33m\u001b[0m\u001b[1;33m\u001b[0m\u001b[0m\n\u001b[0m",
      "\u001b[1;31mAttributeError\u001b[0m: 'ValueError' object has no attribute 'msg'"
     ]
    }
   ],
   "source": [
    "try:\n",
    "    # Código que puede generar una excepción\n",
    "    raise ValueError(\"¡Esto es una excepción simulada!\")\n",
    "except ValueError as e:\n",
    "    print(f\"Tipo de excepción: {type(e)}\")\n",
    "    print(f\"Mensaje de la excepción: {str(e)}\")\n",
    "    print(f\"Mensaje de la excepción: {e.msg}\")\n"
   ]
  },
  {
   "cell_type": "code",
   "execution_count": null,
   "id": "0f08e36b",
   "metadata": {},
   "outputs": [],
   "source": []
  },
  {
   "cell_type": "code",
   "execution_count": 1,
   "id": "b4950c87",
   "metadata": {},
   "outputs": [
    {
     "name": "stdout",
     "output_type": "stream",
     "text": [
      "Valores de elementos deshabilitados: ['23162766:5.5']\n",
      "Valores de elementos habilitados: ['23015760:12.5']\n"
     ]
    }
   ],
   "source": [
    "from bs4 import BeautifulSoup\n",
    "\n",
    "# Tu HTML de ejemplo\n",
    "html = \"\"\"\n",
    "<input aria-describedby=\"pdp-buytools-low-inventory-messaging\" aria-required=\"true\" id=\"skuAndSize__23162766\" name=\"skuAndSize\" type=\"radio\" disabled=\"\" class=\"visually-hidden\" value=\"23162766:5.5\">\n",
    "<input aria-describedby=\"pdp-buytools-low-inventory-messaging\" aria-required=\"true\" id=\"skuAndSize__23015760\" name=\"skuAndSize\" type=\"radio\" class=\"visually-hidden\" value=\"23015760:12.5\">\n",
    "\"\"\"\n",
    "\n",
    "soup = BeautifulSoup(html, 'html.parser')\n",
    "\n",
    "# Buscar todos los elementos input con name=\"skuAndSize\"\n",
    "elements = soup.find_all('input', {'name': 'skuAndSize'})\n",
    "\n",
    "# Filtrar elementos deshabilitados y obtener sus valores\n",
    "disabled_values = [element['value'] for element in elements if 'disabled' in element.attrs]\n",
    "\n",
    "# Filtrar elementos habilitados y obtener sus valores\n",
    "enabled_values = [element['value'] for element in elements if 'disabled' not in element.attrs]\n",
    "\n",
    "print(\"Valores de elementos deshabilitados:\", disabled_values)\n",
    "print(\"Valores de elementos habilitados:\", enabled_values)\n"
   ]
  },
  {
   "cell_type": "code",
   "execution_count": null,
   "id": "7944509b",
   "metadata": {},
   "outputs": [],
   "source": []
  },
  {
   "cell_type": "code",
   "execution_count": 1,
   "id": "7229321d",
   "metadata": {},
   "outputs": [
    {
     "name": "stdout",
     "output_type": "stream",
     "text": [
      "['25758404:5', '25758397:5.5', '25758405:6', '25758408:6.5', '25758402:7', '25758410:7.5', '25758403:8', '25758406:8.5', '25758401:9', '25758407:9.5', '25758396:10', '25758399:11.5', '25758409:12']\n"
     ]
    }
   ],
   "source": [
    "import ast\n",
    "\n",
    "# Supongamos que df es tu DataFrame y 'campo' es el nombre de la columna\n",
    "cadena_lista = \"['25758404:5', '25758397:5.5', '25758405:6', '25758408:6.5', '25758402:7', '25758410:7.5', '25758403:8', '25758406:8.5', '25758401:9', '25758407:9.5', '25758396:10', '25758399:11.5', '25758409:12']\"  # Aquí asume que solo hay un elemento en la columna, ajusta según tus necesidades\n",
    "\n",
    "# Evaluar la cadena usando ast.literal_eval\n",
    "lista_resultante = ast.literal_eval(cadena_lista)\n",
    "\n",
    "# Imprimir la lista resultante\n",
    "print(lista_resultante)\n"
   ]
  },
  {
   "cell_type": "code",
   "execution_count": null,
   "id": "473964cb",
   "metadata": {},
   "outputs": [],
   "source": []
  },
  {
   "cell_type": "code",
   "execution_count": null,
   "id": "f2478f1d",
   "metadata": {},
   "outputs": [],
   "source": [
    "import pandas as pd\n",
    "\n",
    "# Supongamos que df_det es tu DataFrame\n",
    "\n",
    "# Define una función que asigna el valor de 'color' a 'colors' cuando 'colors' es un arreglo vacío\n",
    "def asignar_color(row):\n",
    "    if not row['colors']:  # Verifica si 'colors' es un arreglo vacío\n",
    "        return row['color']\n",
    "    else:\n",
    "        return row['colors']\n",
    "\n",
    "# Aplica la función a la columna 'df_det'\n",
    "df_det['colors'] = df_det.apply(lambda row: asignar_color(row), axis=1)\n",
    "\n",
    "# Otra forma más concisa utilizando solo lambda\n",
    "df_det['colors'] = df_det.apply(lambda row: row['color'] if not row['colors'] else row['colors'], axis=1)\n"
   ]
  },
  {
   "cell_type": "code",
   "execution_count": null,
   "id": "883cd3aa",
   "metadata": {},
   "outputs": [],
   "source": [
    "# Verificar si la lista 'colors' está vacía\n",
    "df_det['colors'] = df_det.apply(lambda row: row['color'] if not row['colors'] else row['colors'], axis=1)\n",
    "\n",
    "# O usando len(row['colors'])\n",
    "# df_det['colors'] = df_det.apply(lambda row: row['color'] if len(row['colors']) == 0 else row['colors'], axis=1)\n"
   ]
  },
  {
   "cell_type": "code",
   "execution_count": null,
   "id": "908f31b0",
   "metadata": {},
   "outputs": [],
   "source": []
  },
  {
   "cell_type": "code",
   "execution_count": null,
   "id": "b9898f82",
   "metadata": {},
   "outputs": [],
   "source": []
  },
  {
   "cell_type": "code",
   "execution_count": 4,
   "id": "11b4f395",
   "metadata": {},
   "outputs": [
    {
     "name": "stdout",
     "output_type": "stream",
     "text": [
      "                                           colors color_categories\n",
      "0     [Black/University Red/Bright Concord/White]               []\n",
      "1  [Black/University Red/Dark Grey/Metallic Gold]               []\n",
      "2         [Lapis/Black/Crimson Bliss/Saturn Gold]               []\n",
      "3                         [White/Siren Red/Black]               []\n"
     ]
    }
   ],
   "source": [
    "import pandas as pd\n",
    "\n",
    "# Supongamos que 'colors' es el nombre de la columna que contiene las listas de colores\n",
    "data = {'colors': [['Black/University Red/Bright Concord/White'],\n",
    "                   ['Black/University Red/Dark Grey/Metallic Gold'],\n",
    "                   ['Lapis/Black/Crimson Bliss/Saturn Gold'],\n",
    "                   ['White/Siren Red/Black']]}\n",
    "\n",
    "df = pd.DataFrame(data)\n",
    "\n",
    "# Definir categorías de colores\n",
    "color_mapping = {\n",
    "    'Black': 'Negro',\n",
    "    'Red': 'Rojo',\n",
    "    'White': 'Blanco',\n",
    "    'Grey': 'Gris',\n",
    "    'Gold': 'Oro'\n",
    "}\n",
    "\n",
    "# Función para asignar categorías\n",
    "def categorizar_colores(color_list):\n",
    "    categorias = set()\n",
    "    for color in color_mapping:\n",
    "        if any(keyword in color.lower() for keyword in color_mapping[color].lower().split('/')):\n",
    "            categorias.add(color)\n",
    "    return list(categorias)\n",
    "\n",
    "# Aplicar la función a la columna 'colors'\n",
    "df['color_categories'] = df['colors'].apply(categorizar_colores)\n",
    "\n",
    "print(df[['colors', 'color_categories']])\n"
   ]
  },
  {
   "cell_type": "code",
   "execution_count": null,
   "id": "f81befdd",
   "metadata": {},
   "outputs": [],
   "source": []
  },
  {
   "cell_type": "code",
   "execution_count": null,
   "id": "625f4774",
   "metadata": {},
   "outputs": [],
   "source": [
    "import nltk\n",
    "\n",
    "# Descargar recursos necesarios para nltk\n",
    "nltk.download('words')\n",
    "\n",
    "from nltk.corpus import words\n",
    "\n",
    "# Lista de colores posibles\n",
    "colors = ['black', 'white', 'blue', 'grey']\n",
    "\n",
    "def categorizar_colores(lista_colores):\n",
    "    for color in lista_colores:\n",
    "        color_lower = color.lower()\n",
    "        if any(keyword in color_lower for keyword in colors):\n",
    "            # Si alguna palabra clave está en el color, asignar la categoría correspondiente\n",
    "            if 'black' in color_lower:\n",
    "                yield 'black'\n",
    "            elif 'white' in color_lower:\n",
    "                yield 'white'\n",
    "            elif 'blue' in color_lower:\n",
    "                yield 'blue'\n",
    "            elif 'grey' in color_lower:\n",
    "                yield 'grey'\n",
    "            else:\n",
    "                # Otra categoría para colores que no coinciden con las palabras clave\n",
    "                yield 'other'\n",
    "        else:\n",
    "            # Otra categoría para colores que no tienen palabras clave\n",
    "            yield 'other'\n",
    "\n",
    "# Agregar una nueva columna al DataFrame con las categorías de color\n",
    "df['categoria_color'] = df['colors'].apply(list).apply(categorizar_colores)\n",
    "\n",
    "# Imprimir el DataFrame resultante\n",
    "print(df[['colors', 'categoria_color']])\n"
   ]
  },
  {
   "cell_type": "code",
   "execution_count": null,
   "id": "f5f89f7c",
   "metadata": {},
   "outputs": [],
   "source": []
  },
  {
   "cell_type": "code",
   "execution_count": 5,
   "id": "563186aa",
   "metadata": {},
   "outputs": [
    {
     "name": "stderr",
     "output_type": "stream",
     "text": [
      "[nltk_data] Downloading package stopwords to\n",
      "[nltk_data]     C:\\Users\\Monica\\AppData\\Roaming\\nltk_data...\n",
      "[nltk_data]   Unzipping corpora\\stopwords.zip.\n",
      "[nltk_data] Downloading package punkt to\n",
      "[nltk_data]     C:\\Users\\Monica\\AppData\\Roaming\\nltk_data...\n",
      "[nltk_data]   Unzipping tokenizers\\punkt.zip.\n"
     ]
    },
    {
     "name": "stdout",
     "output_type": "stream",
     "text": [
      "Oración: \"Me siento muy feliz hoy. Es un día excelente.\" - Categoría: Positivo\n",
      "Oración: \"El clima es horrible, me siento triste.\" - Categoría: Negativo\n",
      "Oración: \"No tengo una opinión clara sobre este tema.\" - Categoría: Neutral\n"
     ]
    }
   ],
   "source": [
    "import nltk\n",
    "from nltk.corpus import stopwords\n",
    "from nltk.tokenize import word_tokenize\n",
    "\n",
    "# Descargar recursos necesarios para nltk\n",
    "nltk.download('stopwords')\n",
    "nltk.download('punkt')\n",
    "\n",
    "# Lista de palabras clave para categorización\n",
    "palabras_positivas = set(['feliz', 'positivo', 'bien', 'excelente'])\n",
    "palabras_negativas = set(['triste', 'negativo', 'mal', 'horrible'])\n",
    "\n",
    "def categorizar_oracion(oracion):\n",
    "    # Tokenizar la oración y remover stopwords\n",
    "    tokens = [word.lower() for word in word_tokenize(oracion) if word.isalpha() and word.lower() not in stopwords.words('english')]\n",
    "\n",
    "    # Contar palabras positivas y negativas\n",
    "    count_positivas = sum(1 for palabra in tokens if palabra in palabras_positivas)\n",
    "    count_negativas = sum(1 for palabra in tokens if palabra in palabras_negativas)\n",
    "\n",
    "    # Asignar categoría basada en el recuento\n",
    "    if count_positivas > count_negativas:\n",
    "        return 'Positivo'\n",
    "    elif count_negativas > count_positivas:\n",
    "        return 'Negativo'\n",
    "    else:\n",
    "        return 'Neutral'\n",
    "\n",
    "# Ejemplo de oraciones\n",
    "oraciones = [\n",
    "    \"Me siento muy feliz hoy. Es un día excelente.\",\n",
    "    \"El clima es horrible, me siento triste.\",\n",
    "    \"No tengo una opinión clara sobre este tema.\",\n",
    "]\n",
    "\n",
    "# Categorizar cada oración\n",
    "for oracion in oraciones:\n",
    "    categoria = categorizar_oracion(oracion)\n",
    "    print(f'Oración: \"{oracion}\" - Categoría: {categoria}')\n"
   ]
  },
  {
   "cell_type": "code",
   "execution_count": null,
   "id": "3fe28f2a",
   "metadata": {},
   "outputs": [],
   "source": []
  },
  {
   "cell_type": "code",
   "execution_count": 9,
   "id": "1e0dfee6",
   "metadata": {},
   "outputs": [
    {
     "name": "stdout",
     "output_type": "stream",
     "text": [
      "Black/University Red/Bright Concord/White tokens:[]\n",
      "Color: \"Black/University Red/Bright Concord/White\" - Categoría: Otros\n",
      "Black/University Red/Dark Grey/Metallic Gold tokens:['gold']\n",
      "Color: \"Black/University Red/Dark Grey/Metallic Gold\" - Categoría: Otros\n",
      "Lapis/Black/Crimson Bliss/Saturn Gold tokens:['gold']\n",
      "Color: \"Lapis/Black/Crimson Bliss/Saturn Gold\" - Categoría: Otros\n",
      "White/Siren Red/Black tokens:[]\n",
      "Color: \"White/Siren Red/Black\" - Categoría: Otros\n"
     ]
    },
    {
     "name": "stderr",
     "output_type": "stream",
     "text": [
      "[nltk_data] Downloading package punkt to\n",
      "[nltk_data]     C:\\Users\\Monica\\AppData\\Roaming\\nltk_data...\n",
      "[nltk_data]   Package punkt is already up-to-date!\n"
     ]
    }
   ],
   "source": [
    "import nltk\n",
    "from nltk.tokenize import word_tokenize\n",
    "\n",
    "# Descargar recursos necesarios para nltk\n",
    "nltk.download('punkt')\n",
    "\n",
    "# Palabras clave para categorización\n",
    "palabras_negro = set(['black', 'negro'])\n",
    "palabras_rojo = set(['red', 'rojo'])\n",
    "palabras_azul = set(['blue', 'azul'])\n",
    "palabras_blanco = set(['white', 'blanco'])\n",
    "\n",
    "def categorizar_color(color):\n",
    "    # Tokenizar la descripción del color\n",
    "    tokens = [word.lower() for word in word_tokenize(color) if word.isalpha()]\n",
    "    print(f\"{color} tokens:{tokens}\")\n",
    "    # Verificar la presencia de palabras clave para cada categoría\n",
    "    if any(palabra in tokens for palabra in palabras_negro):\n",
    "        return 'Negro'\n",
    "    elif any(palabra in tokens for palabra in palabras_rojo):\n",
    "        return 'Rojo'\n",
    "    elif any(palabra in tokens for palabra in palabras_azul):\n",
    "        return 'Azul'\n",
    "    elif any(palabra in tokens for palabra in palabras_blanco):\n",
    "        return 'Blanco'\n",
    "    else:\n",
    "        return 'Otros'\n",
    "\n",
    "# Ejemplo de lista de colores\n",
    "colores = [\n",
    "    'Black/University Red/Bright Concord/White',\n",
    "    'Black/University Red/Dark Grey/Metallic Gold',\n",
    "    'Lapis/Black/Crimson Bliss/Saturn Gold',\n",
    "    'White/Siren Red/Black'\n",
    "]\n",
    "\n",
    "# Categorizar cada color\n",
    "for color in colores:\n",
    "    categoria = categorizar_color(color)\n",
    "    print(f'Color: \"{color}\" - Categoría: {categoria}')\n"
   ]
  },
  {
   "cell_type": "code",
   "execution_count": null,
   "id": "f0ce9882",
   "metadata": {},
   "outputs": [],
   "source": []
  },
  {
   "cell_type": "code",
   "execution_count": 17,
   "id": "bd0d3b1d",
   "metadata": {},
   "outputs": [
    {
     "name": "stdout",
     "output_type": "stream",
     "text": [
      "Black/University Red/Bright Concord/White ['black', 'university', 'red', 'bright', 'concord', 'white']\n",
      "Black/University Red/Bright Concord/White: Black\n",
      "Black/University Red/Dark Grey/Metallic Gold ['black', 'university', 'red', 'dark', 'grey', 'metallic', 'gold']\n",
      "Black/University Red/Dark Grey/Metallic Gold: Red\n",
      "Lapis/Black/Crimson Bliss/Saturn Gold ['lapis', 'black', 'crimson', 'bliss', 'saturn', 'gold']\n",
      "Lapis/Black/Crimson Bliss/Saturn Gold: Other\n",
      "White/Siren Red/Black ['white', 'siren', 'red', 'black']\n",
      "White/Siren Red/Black: White\n"
     ]
    },
    {
     "name": "stderr",
     "output_type": "stream",
     "text": [
      "[nltk_data] Downloading package punkt to\n",
      "[nltk_data]     C:\\Users\\Monica\\AppData\\Roaming\\nltk_data...\n",
      "[nltk_data]   Package punkt is already up-to-date!\n"
     ]
    },
    {
     "data": {
      "text/plain": [
       "{'Black': True, 'White': True, 'Blue': False, 'Red': True, 'Other': True}"
      ]
     },
     "execution_count": 17,
     "metadata": {},
     "output_type": "execute_result"
    }
   ],
   "source": [
    "import re\n",
    "import nltk\n",
    "from nltk.tokenize import word_tokenize\n",
    "\n",
    "# Descargar el tokenizador punkt de NLTK\n",
    "nltk.download('punkt')\n",
    "\n",
    "# Lista de colores\n",
    "colores = [\n",
    "    'Black/University Red/Bright Concord/White',\n",
    "    'Black/University Red/Dark Grey/Metallic Gold',\n",
    "    'Lapis/Black/Crimson Bliss/Saturn Gold',\n",
    "    'White/Siren Red/Black'\n",
    "]\n",
    "\n",
    "# Palabras clave para cada categoría\n",
    "palabras_negro = ['black']\n",
    "palabras_blanco = ['white']\n",
    "palabras_azul = ['blue', 'navy']\n",
    "palabras_rojo = ['red']\n",
    "palabras_otro = ['Other']\n",
    "\n",
    "# Diccionario para realizar un seguimiento de las categorías asignadas\n",
    "categorias_asignadas = {\n",
    "    'Black': False,\n",
    "    'White': False,\n",
    "    'Blue': False,\n",
    "    'Red': False,\n",
    "    'Other': False\n",
    "}\n",
    "\n",
    "# Función para clasificar un color\n",
    "def clasificar_color(color):\n",
    "    word_list = re.split(r'[/\\s,]+', color.lower())\n",
    "    print(color, word_list)\n",
    "    # Verificar cada categoría\n",
    "    if not categorias_asignadas['Black'] and any(palabra in word_list for palabra in palabras_negro):\n",
    "        categorias_asignadas['Black'] = True\n",
    "        return 'Black'\n",
    "    elif not categorias_asignadas['White'] and any(palabra in word_list for palabra in palabras_blanco):\n",
    "        categorias_asignadas['White'] = True\n",
    "        return 'White'\n",
    "    elif not categorias_asignadas['Blue'] and any(palabra in word_list for palabra in palabras_azul):\n",
    "        categorias_asignadas['Blue'] = True\n",
    "        return 'Blue'\n",
    "    elif not categorias_asignadas['Red'] and any(palabra in word_list for palabra in palabras_rojo):\n",
    "        categorias_asignadas['Red'] = True\n",
    "        return 'Red'\n",
    "    elif not categorias_asignadas['Other']:\n",
    "        categorias_asignadas['Other'] = True\n",
    "        return 'Other'\n",
    "    else:\n",
    "        return 'No categorizado'\n",
    "\n",
    "# Clasificar cada color\n",
    "for color in colores:\n",
    "    categoria = clasificar_color(color)\n",
    "    print(f\"{color}: {categoria}\")\n",
    "\n",
    "    \n",
    "categorias_asignadas"
   ]
  },
  {
   "cell_type": "code",
   "execution_count": null,
   "id": "3831da16",
   "metadata": {},
   "outputs": [],
   "source": []
  }
 ],
 "metadata": {
  "kernelspec": {
   "display_name": "Python 3 (ipykernel)",
   "language": "python",
   "name": "python3"
  },
  "language_info": {
   "codemirror_mode": {
    "name": "ipython",
    "version": 3
   },
   "file_extension": ".py",
   "mimetype": "text/x-python",
   "name": "python",
   "nbconvert_exporter": "python",
   "pygments_lexer": "ipython3",
   "version": "3.9.13"
  }
 },
 "nbformat": 4,
 "nbformat_minor": 5
}
